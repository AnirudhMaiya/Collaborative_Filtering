{
  "nbformat": 4,
  "nbformat_minor": 0,
  "metadata": {
    "colab": {
      "name": "recommender_systems.ipynb",
      "provenance": [],
      "collapsed_sections": [],
      "machine_shape": "hm"
    },
    "kernelspec": {
      "name": "python3",
      "display_name": "Python 3"
    },
    "accelerator": "GPU"
  },
  "cells": [
    {
      "cell_type": "code",
      "metadata": {
        "id": "wdG4VFJrn2i1",
        "colab_type": "code",
        "colab": {}
      },
      "source": [
        "from google.colab import drive\n",
        "drive.mount('/content/drive')"
      ],
      "execution_count": 0,
      "outputs": []
    },
    {
      "cell_type": "code",
      "metadata": {
        "id": "V9SsV25Cn25k",
        "colab_type": "code",
        "outputId": "1dd577bb-abee-405a-e6c2-4a780315ce58",
        "colab": {
          "base_uri": "https://localhost:8080/",
          "height": 129
        }
      },
      "source": [
        "!unzip '/content/drive/My Drive/recommender_systems/ml-1m.zip'"
      ],
      "execution_count": 2,
      "outputs": [
        {
          "output_type": "stream",
          "text": [
            "Archive:  /content/drive/My Drive/recommender_systems/ml-1m.zip\n",
            "   creating: ml-1m/\n",
            "  inflating: ml-1m/movies.dat        \n",
            "  inflating: ml-1m/ratings.dat       \n",
            "  inflating: ml-1m/README            \n",
            "  inflating: ml-1m/users.dat         \n"
          ],
          "name": "stdout"
        }
      ]
    },
    {
      "cell_type": "code",
      "metadata": {
        "id": "Tl1CUfVVoN2b",
        "colab_type": "code",
        "colab": {
          "base_uri": "https://localhost:8080/",
          "height": 36
        },
        "outputId": "5ce9d04d-cdca-4dd4-9499-65d0d1b83b43"
      },
      "source": [
        "import pandas as pd\n",
        "import numpy as np\n",
        "from math import sqrt\n",
        "import matplotlib.pyplot as plt\n",
        "from sklearn.metrics.pairwise import pairwise_distances\n",
        "from scipy.spatial.distance import correlation, cosine\n",
        "from sklearn.metrics import mean_absolute_error,r2_score,mean_squared_error\n",
        "from keras.layers import Dense,Embedding,Input,Flatten,dot,BatchNormalization,LeakyReLU,Dropout,concatenate,multiply\n",
        "from keras.losses import mean_squared_error\n",
        "from keras.models import Model,load_model\n",
        "from keras.optimizers import Adam\n",
        "from keras.callbacks import EarlyStopping\n",
        "from keras.utils import plot_model\n"
      ],
      "execution_count": 3,
      "outputs": [
        {
          "output_type": "stream",
          "text": [
            "Using TensorFlow backend.\n"
          ],
          "name": "stderr"
        }
      ]
    },
    {
      "cell_type": "code",
      "metadata": {
        "id": "q7bIj4Gdpcon",
        "colab_type": "code",
        "colab": {}
      },
      "source": [
        "data=pd.read_csv(\"/content/ml-1m/ratings.dat\",sep=\"::\",header=None,engine = 'python')"
      ],
      "execution_count": 0,
      "outputs": []
    },
    {
      "cell_type": "code",
      "metadata": {
        "id": "OjPjVkuaphUn",
        "colab_type": "code",
        "colab": {}
      },
      "source": [
        "data.columns=[\"user_id\",\"movie_id\",\"rating\",\"timestamp\"]# Number of columns you can see in the dat file."
      ],
      "execution_count": 0,
      "outputs": []
    },
    {
      "cell_type": "code",
      "metadata": {
        "id": "rGRhEJRQpkbs",
        "colab_type": "code",
        "outputId": "83079080-c82d-4b45-dcb6-84d3afbc3051",
        "colab": {
          "base_uri": "https://localhost:8080/",
          "height": 206
        }
      },
      "source": [
        "data.head(5)"
      ],
      "execution_count": 0,
      "outputs": [
        {
          "output_type": "execute_result",
          "data": {
            "text/html": [
              "<div>\n",
              "<style scoped>\n",
              "    .dataframe tbody tr th:only-of-type {\n",
              "        vertical-align: middle;\n",
              "    }\n",
              "\n",
              "    .dataframe tbody tr th {\n",
              "        vertical-align: top;\n",
              "    }\n",
              "\n",
              "    .dataframe thead th {\n",
              "        text-align: right;\n",
              "    }\n",
              "</style>\n",
              "<table border=\"1\" class=\"dataframe\">\n",
              "  <thead>\n",
              "    <tr style=\"text-align: right;\">\n",
              "      <th></th>\n",
              "      <th>user_id</th>\n",
              "      <th>movie_id</th>\n",
              "      <th>rating</th>\n",
              "      <th>timestamp</th>\n",
              "    </tr>\n",
              "  </thead>\n",
              "  <tbody>\n",
              "    <tr>\n",
              "      <th>0</th>\n",
              "      <td>1</td>\n",
              "      <td>1193</td>\n",
              "      <td>5</td>\n",
              "      <td>978300760</td>\n",
              "    </tr>\n",
              "    <tr>\n",
              "      <th>1</th>\n",
              "      <td>1</td>\n",
              "      <td>661</td>\n",
              "      <td>3</td>\n",
              "      <td>978302109</td>\n",
              "    </tr>\n",
              "    <tr>\n",
              "      <th>2</th>\n",
              "      <td>1</td>\n",
              "      <td>914</td>\n",
              "      <td>3</td>\n",
              "      <td>978301968</td>\n",
              "    </tr>\n",
              "    <tr>\n",
              "      <th>3</th>\n",
              "      <td>1</td>\n",
              "      <td>3408</td>\n",
              "      <td>4</td>\n",
              "      <td>978300275</td>\n",
              "    </tr>\n",
              "    <tr>\n",
              "      <th>4</th>\n",
              "      <td>1</td>\n",
              "      <td>2355</td>\n",
              "      <td>5</td>\n",
              "      <td>978824291</td>\n",
              "    </tr>\n",
              "  </tbody>\n",
              "</table>\n",
              "</div>"
            ],
            "text/plain": [
              "   user_id  movie_id  rating  timestamp\n",
              "0        1      1193       5  978300760\n",
              "1        1       661       3  978302109\n",
              "2        1       914       3  978301968\n",
              "3        1      3408       4  978300275\n",
              "4        1      2355       5  978824291"
            ]
          },
          "metadata": {
            "tags": []
          },
          "execution_count": 5
        }
      ]
    },
    {
      "cell_type": "code",
      "metadata": {
        "id": "182dPeArpyMe",
        "colab_type": "code",
        "outputId": "dc0f222d-2be4-418d-8543-e74ae7ad3c62",
        "colab": {
          "base_uri": "https://localhost:8080/",
          "height": 54
        }
      },
      "source": [
        "print('Number of unique users : %d ' % len(data['user_id'].unique()))\n",
        "print('Number of unique movies : %d ' % len(data['movie_id'].unique()))"
      ],
      "execution_count": 0,
      "outputs": [
        {
          "output_type": "stream",
          "text": [
            "Number of unique users : 6040 \n",
            "Number of unique movies : 3706 \n"
          ],
          "name": "stdout"
        }
      ]
    },
    {
      "cell_type": "code",
      "metadata": {
        "id": "Qu7nUE-qtx0j",
        "colab_type": "code",
        "outputId": "601c9fc4-37b1-4e79-9613-083caa9eb7a8",
        "colab": {
          "base_uri": "https://localhost:8080/",
          "height": 54
        }
      },
      "source": [
        "print('Total number of ratings expected : %d ' % (len(data['user_id'].unique()) * len(data['movie_id'].unique())))  #22million\n",
        "print('Total number of ratings in this dataset : %d ' % len(data))  #1million"
      ],
      "execution_count": 0,
      "outputs": [
        {
          "output_type": "stream",
          "text": [
            "Total number of ratings expected : 22384240 \n",
            "Total number of ratings in this dataset : 1000209 \n"
          ],
          "name": "stdout"
        }
      ]
    },
    {
      "cell_type": "code",
      "metadata": {
        "id": "MgOoXRW7w5RJ",
        "colab_type": "code",
        "outputId": "53207dd3-8caf-425d-c5bb-5cc1cd587f0e",
        "colab": {
          "base_uri": "https://localhost:8080/",
          "height": 54
        }
      },
      "source": [
        "print('Minimum rating given by a user %.2f' % data['rating'].min())\n",
        "print('Minimum rating given by a user %.2f' % data['rating'].max())"
      ],
      "execution_count": 0,
      "outputs": [
        {
          "output_type": "stream",
          "text": [
            "Minimum rating given by a user 1.00\n",
            "Minimum rating given by a user 5.00\n"
          ],
          "name": "stdout"
        }
      ]
    },
    {
      "cell_type": "code",
      "metadata": {
        "id": "gVRE4JMKukEh",
        "colab_type": "code",
        "outputId": "252e2ecc-f71d-4030-f6ba-de3287277231",
        "colab": {
          "base_uri": "https://localhost:8080/",
          "height": 287
        }
      },
      "source": [
        "table = pd.pivot_table(data, index = 'user_id',columns = 'movie_id',values = 'rating')\n",
        "table = table.fillna(0)\n",
        "table.head(5)"
      ],
      "execution_count": 0,
      "outputs": [
        {
          "output_type": "execute_result",
          "data": {
            "text/html": [
              "<div>\n",
              "<style scoped>\n",
              "    .dataframe tbody tr th:only-of-type {\n",
              "        vertical-align: middle;\n",
              "    }\n",
              "\n",
              "    .dataframe tbody tr th {\n",
              "        vertical-align: top;\n",
              "    }\n",
              "\n",
              "    .dataframe thead th {\n",
              "        text-align: right;\n",
              "    }\n",
              "</style>\n",
              "<table border=\"1\" class=\"dataframe\">\n",
              "  <thead>\n",
              "    <tr style=\"text-align: right;\">\n",
              "      <th>movie_id</th>\n",
              "      <th>1</th>\n",
              "      <th>2</th>\n",
              "      <th>3</th>\n",
              "      <th>4</th>\n",
              "      <th>5</th>\n",
              "      <th>6</th>\n",
              "      <th>7</th>\n",
              "      <th>8</th>\n",
              "      <th>9</th>\n",
              "      <th>10</th>\n",
              "      <th>11</th>\n",
              "      <th>12</th>\n",
              "      <th>13</th>\n",
              "      <th>14</th>\n",
              "      <th>15</th>\n",
              "      <th>16</th>\n",
              "      <th>17</th>\n",
              "      <th>18</th>\n",
              "      <th>19</th>\n",
              "      <th>20</th>\n",
              "      <th>21</th>\n",
              "      <th>22</th>\n",
              "      <th>23</th>\n",
              "      <th>24</th>\n",
              "      <th>25</th>\n",
              "      <th>26</th>\n",
              "      <th>27</th>\n",
              "      <th>28</th>\n",
              "      <th>29</th>\n",
              "      <th>30</th>\n",
              "      <th>31</th>\n",
              "      <th>32</th>\n",
              "      <th>33</th>\n",
              "      <th>34</th>\n",
              "      <th>35</th>\n",
              "      <th>36</th>\n",
              "      <th>37</th>\n",
              "      <th>38</th>\n",
              "      <th>39</th>\n",
              "      <th>40</th>\n",
              "      <th>...</th>\n",
              "      <th>3913</th>\n",
              "      <th>3914</th>\n",
              "      <th>3915</th>\n",
              "      <th>3916</th>\n",
              "      <th>3917</th>\n",
              "      <th>3918</th>\n",
              "      <th>3919</th>\n",
              "      <th>3920</th>\n",
              "      <th>3921</th>\n",
              "      <th>3922</th>\n",
              "      <th>3923</th>\n",
              "      <th>3924</th>\n",
              "      <th>3925</th>\n",
              "      <th>3926</th>\n",
              "      <th>3927</th>\n",
              "      <th>3928</th>\n",
              "      <th>3929</th>\n",
              "      <th>3930</th>\n",
              "      <th>3931</th>\n",
              "      <th>3932</th>\n",
              "      <th>3933</th>\n",
              "      <th>3934</th>\n",
              "      <th>3935</th>\n",
              "      <th>3936</th>\n",
              "      <th>3937</th>\n",
              "      <th>3938</th>\n",
              "      <th>3939</th>\n",
              "      <th>3940</th>\n",
              "      <th>3941</th>\n",
              "      <th>3942</th>\n",
              "      <th>3943</th>\n",
              "      <th>3944</th>\n",
              "      <th>3945</th>\n",
              "      <th>3946</th>\n",
              "      <th>3947</th>\n",
              "      <th>3948</th>\n",
              "      <th>3949</th>\n",
              "      <th>3950</th>\n",
              "      <th>3951</th>\n",
              "      <th>3952</th>\n",
              "    </tr>\n",
              "    <tr>\n",
              "      <th>user_id</th>\n",
              "      <th></th>\n",
              "      <th></th>\n",
              "      <th></th>\n",
              "      <th></th>\n",
              "      <th></th>\n",
              "      <th></th>\n",
              "      <th></th>\n",
              "      <th></th>\n",
              "      <th></th>\n",
              "      <th></th>\n",
              "      <th></th>\n",
              "      <th></th>\n",
              "      <th></th>\n",
              "      <th></th>\n",
              "      <th></th>\n",
              "      <th></th>\n",
              "      <th></th>\n",
              "      <th></th>\n",
              "      <th></th>\n",
              "      <th></th>\n",
              "      <th></th>\n",
              "      <th></th>\n",
              "      <th></th>\n",
              "      <th></th>\n",
              "      <th></th>\n",
              "      <th></th>\n",
              "      <th></th>\n",
              "      <th></th>\n",
              "      <th></th>\n",
              "      <th></th>\n",
              "      <th></th>\n",
              "      <th></th>\n",
              "      <th></th>\n",
              "      <th></th>\n",
              "      <th></th>\n",
              "      <th></th>\n",
              "      <th></th>\n",
              "      <th></th>\n",
              "      <th></th>\n",
              "      <th></th>\n",
              "      <th></th>\n",
              "      <th></th>\n",
              "      <th></th>\n",
              "      <th></th>\n",
              "      <th></th>\n",
              "      <th></th>\n",
              "      <th></th>\n",
              "      <th></th>\n",
              "      <th></th>\n",
              "      <th></th>\n",
              "      <th></th>\n",
              "      <th></th>\n",
              "      <th></th>\n",
              "      <th></th>\n",
              "      <th></th>\n",
              "      <th></th>\n",
              "      <th></th>\n",
              "      <th></th>\n",
              "      <th></th>\n",
              "      <th></th>\n",
              "      <th></th>\n",
              "      <th></th>\n",
              "      <th></th>\n",
              "      <th></th>\n",
              "      <th></th>\n",
              "      <th></th>\n",
              "      <th></th>\n",
              "      <th></th>\n",
              "      <th></th>\n",
              "      <th></th>\n",
              "      <th></th>\n",
              "      <th></th>\n",
              "      <th></th>\n",
              "      <th></th>\n",
              "      <th></th>\n",
              "      <th></th>\n",
              "      <th></th>\n",
              "      <th></th>\n",
              "      <th></th>\n",
              "      <th></th>\n",
              "      <th></th>\n",
              "    </tr>\n",
              "  </thead>\n",
              "  <tbody>\n",
              "    <tr>\n",
              "      <th>1</th>\n",
              "      <td>5.0</td>\n",
              "      <td>0.0</td>\n",
              "      <td>0.0</td>\n",
              "      <td>0.0</td>\n",
              "      <td>0.0</td>\n",
              "      <td>0.0</td>\n",
              "      <td>0.0</td>\n",
              "      <td>0.0</td>\n",
              "      <td>0.0</td>\n",
              "      <td>0.0</td>\n",
              "      <td>0.0</td>\n",
              "      <td>0.0</td>\n",
              "      <td>0.0</td>\n",
              "      <td>0.0</td>\n",
              "      <td>0.0</td>\n",
              "      <td>0.0</td>\n",
              "      <td>0.0</td>\n",
              "      <td>0.0</td>\n",
              "      <td>0.0</td>\n",
              "      <td>0.0</td>\n",
              "      <td>0.0</td>\n",
              "      <td>0.0</td>\n",
              "      <td>0.0</td>\n",
              "      <td>0.0</td>\n",
              "      <td>0.0</td>\n",
              "      <td>0.0</td>\n",
              "      <td>0.0</td>\n",
              "      <td>0.0</td>\n",
              "      <td>0.0</td>\n",
              "      <td>0.0</td>\n",
              "      <td>0.0</td>\n",
              "      <td>0.0</td>\n",
              "      <td>0.0</td>\n",
              "      <td>0.0</td>\n",
              "      <td>0.0</td>\n",
              "      <td>0.0</td>\n",
              "      <td>0.0</td>\n",
              "      <td>0.0</td>\n",
              "      <td>0.0</td>\n",
              "      <td>0.0</td>\n",
              "      <td>...</td>\n",
              "      <td>0.0</td>\n",
              "      <td>0.0</td>\n",
              "      <td>0.0</td>\n",
              "      <td>0.0</td>\n",
              "      <td>0.0</td>\n",
              "      <td>0.0</td>\n",
              "      <td>0.0</td>\n",
              "      <td>0.0</td>\n",
              "      <td>0.0</td>\n",
              "      <td>0.0</td>\n",
              "      <td>0.0</td>\n",
              "      <td>0.0</td>\n",
              "      <td>0.0</td>\n",
              "      <td>0.0</td>\n",
              "      <td>0.0</td>\n",
              "      <td>0.0</td>\n",
              "      <td>0.0</td>\n",
              "      <td>0.0</td>\n",
              "      <td>0.0</td>\n",
              "      <td>0.0</td>\n",
              "      <td>0.0</td>\n",
              "      <td>0.0</td>\n",
              "      <td>0.0</td>\n",
              "      <td>0.0</td>\n",
              "      <td>0.0</td>\n",
              "      <td>0.0</td>\n",
              "      <td>0.0</td>\n",
              "      <td>0.0</td>\n",
              "      <td>0.0</td>\n",
              "      <td>0.0</td>\n",
              "      <td>0.0</td>\n",
              "      <td>0.0</td>\n",
              "      <td>0.0</td>\n",
              "      <td>0.0</td>\n",
              "      <td>0.0</td>\n",
              "      <td>0.0</td>\n",
              "      <td>0.0</td>\n",
              "      <td>0.0</td>\n",
              "      <td>0.0</td>\n",
              "      <td>0.0</td>\n",
              "    </tr>\n",
              "    <tr>\n",
              "      <th>2</th>\n",
              "      <td>0.0</td>\n",
              "      <td>0.0</td>\n",
              "      <td>0.0</td>\n",
              "      <td>0.0</td>\n",
              "      <td>0.0</td>\n",
              "      <td>0.0</td>\n",
              "      <td>0.0</td>\n",
              "      <td>0.0</td>\n",
              "      <td>0.0</td>\n",
              "      <td>0.0</td>\n",
              "      <td>0.0</td>\n",
              "      <td>0.0</td>\n",
              "      <td>0.0</td>\n",
              "      <td>0.0</td>\n",
              "      <td>0.0</td>\n",
              "      <td>0.0</td>\n",
              "      <td>0.0</td>\n",
              "      <td>0.0</td>\n",
              "      <td>0.0</td>\n",
              "      <td>0.0</td>\n",
              "      <td>1.0</td>\n",
              "      <td>0.0</td>\n",
              "      <td>0.0</td>\n",
              "      <td>0.0</td>\n",
              "      <td>0.0</td>\n",
              "      <td>0.0</td>\n",
              "      <td>0.0</td>\n",
              "      <td>0.0</td>\n",
              "      <td>0.0</td>\n",
              "      <td>0.0</td>\n",
              "      <td>0.0</td>\n",
              "      <td>0.0</td>\n",
              "      <td>0.0</td>\n",
              "      <td>0.0</td>\n",
              "      <td>0.0</td>\n",
              "      <td>0.0</td>\n",
              "      <td>0.0</td>\n",
              "      <td>0.0</td>\n",
              "      <td>0.0</td>\n",
              "      <td>0.0</td>\n",
              "      <td>...</td>\n",
              "      <td>0.0</td>\n",
              "      <td>0.0</td>\n",
              "      <td>0.0</td>\n",
              "      <td>0.0</td>\n",
              "      <td>0.0</td>\n",
              "      <td>0.0</td>\n",
              "      <td>0.0</td>\n",
              "      <td>0.0</td>\n",
              "      <td>0.0</td>\n",
              "      <td>0.0</td>\n",
              "      <td>0.0</td>\n",
              "      <td>0.0</td>\n",
              "      <td>0.0</td>\n",
              "      <td>0.0</td>\n",
              "      <td>0.0</td>\n",
              "      <td>0.0</td>\n",
              "      <td>0.0</td>\n",
              "      <td>0.0</td>\n",
              "      <td>0.0</td>\n",
              "      <td>0.0</td>\n",
              "      <td>0.0</td>\n",
              "      <td>0.0</td>\n",
              "      <td>0.0</td>\n",
              "      <td>0.0</td>\n",
              "      <td>0.0</td>\n",
              "      <td>0.0</td>\n",
              "      <td>0.0</td>\n",
              "      <td>0.0</td>\n",
              "      <td>0.0</td>\n",
              "      <td>0.0</td>\n",
              "      <td>0.0</td>\n",
              "      <td>0.0</td>\n",
              "      <td>0.0</td>\n",
              "      <td>0.0</td>\n",
              "      <td>0.0</td>\n",
              "      <td>0.0</td>\n",
              "      <td>0.0</td>\n",
              "      <td>0.0</td>\n",
              "      <td>0.0</td>\n",
              "      <td>0.0</td>\n",
              "    </tr>\n",
              "    <tr>\n",
              "      <th>3</th>\n",
              "      <td>0.0</td>\n",
              "      <td>0.0</td>\n",
              "      <td>0.0</td>\n",
              "      <td>0.0</td>\n",
              "      <td>0.0</td>\n",
              "      <td>0.0</td>\n",
              "      <td>0.0</td>\n",
              "      <td>0.0</td>\n",
              "      <td>0.0</td>\n",
              "      <td>0.0</td>\n",
              "      <td>0.0</td>\n",
              "      <td>0.0</td>\n",
              "      <td>0.0</td>\n",
              "      <td>0.0</td>\n",
              "      <td>0.0</td>\n",
              "      <td>0.0</td>\n",
              "      <td>0.0</td>\n",
              "      <td>0.0</td>\n",
              "      <td>0.0</td>\n",
              "      <td>0.0</td>\n",
              "      <td>0.0</td>\n",
              "      <td>0.0</td>\n",
              "      <td>0.0</td>\n",
              "      <td>0.0</td>\n",
              "      <td>0.0</td>\n",
              "      <td>0.0</td>\n",
              "      <td>0.0</td>\n",
              "      <td>0.0</td>\n",
              "      <td>0.0</td>\n",
              "      <td>0.0</td>\n",
              "      <td>0.0</td>\n",
              "      <td>0.0</td>\n",
              "      <td>0.0</td>\n",
              "      <td>0.0</td>\n",
              "      <td>0.0</td>\n",
              "      <td>0.0</td>\n",
              "      <td>0.0</td>\n",
              "      <td>0.0</td>\n",
              "      <td>0.0</td>\n",
              "      <td>0.0</td>\n",
              "      <td>...</td>\n",
              "      <td>0.0</td>\n",
              "      <td>0.0</td>\n",
              "      <td>0.0</td>\n",
              "      <td>0.0</td>\n",
              "      <td>0.0</td>\n",
              "      <td>0.0</td>\n",
              "      <td>0.0</td>\n",
              "      <td>0.0</td>\n",
              "      <td>0.0</td>\n",
              "      <td>0.0</td>\n",
              "      <td>0.0</td>\n",
              "      <td>0.0</td>\n",
              "      <td>0.0</td>\n",
              "      <td>0.0</td>\n",
              "      <td>0.0</td>\n",
              "      <td>0.0</td>\n",
              "      <td>0.0</td>\n",
              "      <td>0.0</td>\n",
              "      <td>0.0</td>\n",
              "      <td>0.0</td>\n",
              "      <td>0.0</td>\n",
              "      <td>0.0</td>\n",
              "      <td>0.0</td>\n",
              "      <td>0.0</td>\n",
              "      <td>0.0</td>\n",
              "      <td>0.0</td>\n",
              "      <td>0.0</td>\n",
              "      <td>0.0</td>\n",
              "      <td>0.0</td>\n",
              "      <td>0.0</td>\n",
              "      <td>0.0</td>\n",
              "      <td>0.0</td>\n",
              "      <td>0.0</td>\n",
              "      <td>0.0</td>\n",
              "      <td>0.0</td>\n",
              "      <td>0.0</td>\n",
              "      <td>0.0</td>\n",
              "      <td>0.0</td>\n",
              "      <td>0.0</td>\n",
              "      <td>0.0</td>\n",
              "    </tr>\n",
              "    <tr>\n",
              "      <th>4</th>\n",
              "      <td>0.0</td>\n",
              "      <td>0.0</td>\n",
              "      <td>0.0</td>\n",
              "      <td>0.0</td>\n",
              "      <td>0.0</td>\n",
              "      <td>0.0</td>\n",
              "      <td>0.0</td>\n",
              "      <td>0.0</td>\n",
              "      <td>0.0</td>\n",
              "      <td>0.0</td>\n",
              "      <td>0.0</td>\n",
              "      <td>0.0</td>\n",
              "      <td>0.0</td>\n",
              "      <td>0.0</td>\n",
              "      <td>0.0</td>\n",
              "      <td>0.0</td>\n",
              "      <td>0.0</td>\n",
              "      <td>0.0</td>\n",
              "      <td>0.0</td>\n",
              "      <td>0.0</td>\n",
              "      <td>0.0</td>\n",
              "      <td>0.0</td>\n",
              "      <td>0.0</td>\n",
              "      <td>0.0</td>\n",
              "      <td>0.0</td>\n",
              "      <td>0.0</td>\n",
              "      <td>0.0</td>\n",
              "      <td>0.0</td>\n",
              "      <td>0.0</td>\n",
              "      <td>0.0</td>\n",
              "      <td>0.0</td>\n",
              "      <td>0.0</td>\n",
              "      <td>0.0</td>\n",
              "      <td>0.0</td>\n",
              "      <td>0.0</td>\n",
              "      <td>0.0</td>\n",
              "      <td>0.0</td>\n",
              "      <td>0.0</td>\n",
              "      <td>0.0</td>\n",
              "      <td>0.0</td>\n",
              "      <td>...</td>\n",
              "      <td>0.0</td>\n",
              "      <td>0.0</td>\n",
              "      <td>0.0</td>\n",
              "      <td>0.0</td>\n",
              "      <td>0.0</td>\n",
              "      <td>0.0</td>\n",
              "      <td>0.0</td>\n",
              "      <td>0.0</td>\n",
              "      <td>0.0</td>\n",
              "      <td>0.0</td>\n",
              "      <td>0.0</td>\n",
              "      <td>0.0</td>\n",
              "      <td>0.0</td>\n",
              "      <td>0.0</td>\n",
              "      <td>0.0</td>\n",
              "      <td>0.0</td>\n",
              "      <td>0.0</td>\n",
              "      <td>0.0</td>\n",
              "      <td>0.0</td>\n",
              "      <td>0.0</td>\n",
              "      <td>0.0</td>\n",
              "      <td>0.0</td>\n",
              "      <td>0.0</td>\n",
              "      <td>0.0</td>\n",
              "      <td>0.0</td>\n",
              "      <td>0.0</td>\n",
              "      <td>0.0</td>\n",
              "      <td>0.0</td>\n",
              "      <td>0.0</td>\n",
              "      <td>0.0</td>\n",
              "      <td>0.0</td>\n",
              "      <td>0.0</td>\n",
              "      <td>0.0</td>\n",
              "      <td>0.0</td>\n",
              "      <td>0.0</td>\n",
              "      <td>0.0</td>\n",
              "      <td>0.0</td>\n",
              "      <td>0.0</td>\n",
              "      <td>0.0</td>\n",
              "      <td>0.0</td>\n",
              "    </tr>\n",
              "    <tr>\n",
              "      <th>5</th>\n",
              "      <td>0.0</td>\n",
              "      <td>0.0</td>\n",
              "      <td>0.0</td>\n",
              "      <td>0.0</td>\n",
              "      <td>0.0</td>\n",
              "      <td>2.0</td>\n",
              "      <td>0.0</td>\n",
              "      <td>0.0</td>\n",
              "      <td>0.0</td>\n",
              "      <td>0.0</td>\n",
              "      <td>0.0</td>\n",
              "      <td>0.0</td>\n",
              "      <td>0.0</td>\n",
              "      <td>0.0</td>\n",
              "      <td>0.0</td>\n",
              "      <td>3.0</td>\n",
              "      <td>0.0</td>\n",
              "      <td>0.0</td>\n",
              "      <td>0.0</td>\n",
              "      <td>0.0</td>\n",
              "      <td>0.0</td>\n",
              "      <td>0.0</td>\n",
              "      <td>0.0</td>\n",
              "      <td>1.0</td>\n",
              "      <td>0.0</td>\n",
              "      <td>0.0</td>\n",
              "      <td>0.0</td>\n",
              "      <td>0.0</td>\n",
              "      <td>5.0</td>\n",
              "      <td>0.0</td>\n",
              "      <td>0.0</td>\n",
              "      <td>4.0</td>\n",
              "      <td>0.0</td>\n",
              "      <td>4.0</td>\n",
              "      <td>0.0</td>\n",
              "      <td>3.0</td>\n",
              "      <td>0.0</td>\n",
              "      <td>0.0</td>\n",
              "      <td>3.0</td>\n",
              "      <td>0.0</td>\n",
              "      <td>...</td>\n",
              "      <td>0.0</td>\n",
              "      <td>0.0</td>\n",
              "      <td>0.0</td>\n",
              "      <td>0.0</td>\n",
              "      <td>0.0</td>\n",
              "      <td>0.0</td>\n",
              "      <td>0.0</td>\n",
              "      <td>0.0</td>\n",
              "      <td>0.0</td>\n",
              "      <td>0.0</td>\n",
              "      <td>0.0</td>\n",
              "      <td>0.0</td>\n",
              "      <td>0.0</td>\n",
              "      <td>0.0</td>\n",
              "      <td>0.0</td>\n",
              "      <td>0.0</td>\n",
              "      <td>0.0</td>\n",
              "      <td>0.0</td>\n",
              "      <td>0.0</td>\n",
              "      <td>0.0</td>\n",
              "      <td>0.0</td>\n",
              "      <td>0.0</td>\n",
              "      <td>0.0</td>\n",
              "      <td>0.0</td>\n",
              "      <td>0.0</td>\n",
              "      <td>0.0</td>\n",
              "      <td>0.0</td>\n",
              "      <td>0.0</td>\n",
              "      <td>0.0</td>\n",
              "      <td>0.0</td>\n",
              "      <td>0.0</td>\n",
              "      <td>0.0</td>\n",
              "      <td>0.0</td>\n",
              "      <td>0.0</td>\n",
              "      <td>0.0</td>\n",
              "      <td>0.0</td>\n",
              "      <td>0.0</td>\n",
              "      <td>0.0</td>\n",
              "      <td>0.0</td>\n",
              "      <td>0.0</td>\n",
              "    </tr>\n",
              "  </tbody>\n",
              "</table>\n",
              "<p>5 rows × 3706 columns</p>\n",
              "</div>"
            ],
            "text/plain": [
              "movie_id  1     2     3     4     5     ...  3948  3949  3950  3951  3952\n",
              "user_id                                 ...                              \n",
              "1          5.0   0.0   0.0   0.0   0.0  ...   0.0   0.0   0.0   0.0   0.0\n",
              "2          0.0   0.0   0.0   0.0   0.0  ...   0.0   0.0   0.0   0.0   0.0\n",
              "3          0.0   0.0   0.0   0.0   0.0  ...   0.0   0.0   0.0   0.0   0.0\n",
              "4          0.0   0.0   0.0   0.0   0.0  ...   0.0   0.0   0.0   0.0   0.0\n",
              "5          0.0   0.0   0.0   0.0   0.0  ...   0.0   0.0   0.0   0.0   0.0\n",
              "\n",
              "[5 rows x 3706 columns]"
            ]
          },
          "metadata": {
            "tags": []
          },
          "execution_count": 12
        }
      ]
    },
    {
      "cell_type": "code",
      "metadata": {
        "id": "ryiP5FIpO-Gk",
        "colab_type": "code",
        "colab": {}
      },
      "source": [
        "cosine_sim =1 - pairwise_distances(table, metric=\"cosine\")\n",
        "cosine_sim_df = pd.DataFrame(cosine_sim)\n",
        "cosine_sim_df *= np.tri(*cosine_sim_df.values.shape, k=-1).T\n",
        "cosine_sim_df = cosine_sim_df.stack()\n",
        "cosine_sim_df = cosine_sim_df.reindex(cosine_sim_df.abs().sort_values(ascending=False).index).reset_index()\n",
        "cosine_sim_df.columns = [\"User_A\", \"User_B\", \"Cosine_Sim\"]\n"
      ],
      "execution_count": 0,
      "outputs": []
    },
    {
      "cell_type": "code",
      "metadata": {
        "id": "IEzDYfVtkRkB",
        "colab_type": "code",
        "colab": {}
      },
      "source": [
        "cosine_sim =1 - pairwise_distances(table, metric=\"cosine\")\n",
        "cosine_sim_df = pd.DataFrame(cosine_sim)\n",
        "cosine_sim_df *= np.tri(*cosine_sim_df.values.shape, k=-1).T\n",
        "cosine_sim_df = cosine_sim_df.stack()\n",
        "cosine_sim_df = cosine_sim_df.reindex(cosine_sim_df.sort_values(ascending=False).index).reset_index()\n",
        "cosine_sim_df.columns = [\"User_A\", \"User_B\", \"Cosine_Sim\"]\n"
      ],
      "execution_count": 0,
      "outputs": []
    },
    {
      "cell_type": "code",
      "metadata": {
        "id": "ranavLGhT6wy",
        "colab_type": "code",
        "outputId": "754539ae-1cbc-47e8-eba1-e9c06b9696dc",
        "colab": {
          "base_uri": "https://localhost:8080/",
          "height": 363
        }
      },
      "source": [
        "which_user = 322\n",
        "number_of_similar_users = 10\n",
        "cosine_sim_df.iloc[sorted(np.concatenate((np.where(cosine_sim_df['User_A'] == which_user)[0][0:number_of_similar_users],np.where(cosine_sim_df['User_B'] == which_user)[0][0:number_of_similar_users])))][0:number_of_similar_users]"
      ],
      "execution_count": 0,
      "outputs": [
        {
          "output_type": "execute_result",
          "data": {
            "text/html": [
              "<div>\n",
              "<style scoped>\n",
              "    .dataframe tbody tr th:only-of-type {\n",
              "        vertical-align: middle;\n",
              "    }\n",
              "\n",
              "    .dataframe tbody tr th {\n",
              "        vertical-align: top;\n",
              "    }\n",
              "\n",
              "    .dataframe thead th {\n",
              "        text-align: right;\n",
              "    }\n",
              "</style>\n",
              "<table border=\"1\" class=\"dataframe\">\n",
              "  <thead>\n",
              "    <tr style=\"text-align: right;\">\n",
              "      <th></th>\n",
              "      <th>User_A</th>\n",
              "      <th>User_B</th>\n",
              "      <th>Cosine_Sim</th>\n",
              "    </tr>\n",
              "  </thead>\n",
              "  <tbody>\n",
              "    <tr>\n",
              "      <th>303511</th>\n",
              "      <td>322</td>\n",
              "      <td>397</td>\n",
              "      <td>0.373563</td>\n",
              "    </tr>\n",
              "    <tr>\n",
              "      <th>328669</th>\n",
              "      <td>322</td>\n",
              "      <td>3924</td>\n",
              "      <td>0.369198</td>\n",
              "    </tr>\n",
              "    <tr>\n",
              "      <th>342938</th>\n",
              "      <td>322</td>\n",
              "      <td>5216</td>\n",
              "      <td>0.366825</td>\n",
              "    </tr>\n",
              "    <tr>\n",
              "      <th>421032</th>\n",
              "      <td>322</td>\n",
              "      <td>5685</td>\n",
              "      <td>0.355072</td>\n",
              "    </tr>\n",
              "    <tr>\n",
              "      <th>459822</th>\n",
              "      <td>322</td>\n",
              "      <td>4131</td>\n",
              "      <td>0.349942</td>\n",
              "    </tr>\n",
              "    <tr>\n",
              "      <th>602081</th>\n",
              "      <td>322</td>\n",
              "      <td>3336</td>\n",
              "      <td>0.333816</td>\n",
              "    </tr>\n",
              "    <tr>\n",
              "      <th>610373</th>\n",
              "      <td>322</td>\n",
              "      <td>4021</td>\n",
              "      <td>0.332990</td>\n",
              "    </tr>\n",
              "    <tr>\n",
              "      <th>620434</th>\n",
              "      <td>322</td>\n",
              "      <td>1601</td>\n",
              "      <td>0.331971</td>\n",
              "    </tr>\n",
              "    <tr>\n",
              "      <th>632380</th>\n",
              "      <td>322</td>\n",
              "      <td>4489</td>\n",
              "      <td>0.330807</td>\n",
              "    </tr>\n",
              "    <tr>\n",
              "      <th>636102</th>\n",
              "      <td>322</td>\n",
              "      <td>3480</td>\n",
              "      <td>0.330441</td>\n",
              "    </tr>\n",
              "  </tbody>\n",
              "</table>\n",
              "</div>"
            ],
            "text/plain": [
              "        User_A  User_B  Cosine_Sim\n",
              "303511     322     397    0.373563\n",
              "328669     322    3924    0.369198\n",
              "342938     322    5216    0.366825\n",
              "421032     322    5685    0.355072\n",
              "459822     322    4131    0.349942\n",
              "602081     322    3336    0.333816\n",
              "610373     322    4021    0.332990\n",
              "620434     322    1601    0.331971\n",
              "632380     322    4489    0.330807\n",
              "636102     322    3480    0.330441"
            ]
          },
          "metadata": {
            "tags": []
          },
          "execution_count": 15
        }
      ]
    },
    {
      "cell_type": "markdown",
      "metadata": {
        "id": "O94PusfOpj34",
        "colab_type": "text"
      },
      "source": [
        "#Neural Network Based *Collaborative Filtering*"
      ]
    },
    {
      "cell_type": "code",
      "metadata": {
        "id": "iAlPU3HPR9_Q",
        "colab_type": "code",
        "colab": {}
      },
      "source": [
        "dict_movie_id = dict()\n",
        "j = 1\n",
        "for i in sorted(data['movie_id'].unique()):\n",
        "  dict_movie_id[i] = j\n",
        "  j = j+1"
      ],
      "execution_count": 0,
      "outputs": []
    },
    {
      "cell_type": "code",
      "metadata": {
        "id": "aIeSsBK6SkC_",
        "colab_type": "code",
        "colab": {}
      },
      "source": [
        "data_new = data.copy()\n",
        "data_new['movie_id'] = data['movie_id'].apply(lambda x: dict_movie_id[x])"
      ],
      "execution_count": 0,
      "outputs": []
    },
    {
      "cell_type": "code",
      "metadata": {
        "id": "fFGMWVg0mPdY",
        "colab_type": "code",
        "colab": {}
      },
      "source": [
        "mask = np.random.rand(len(data_new)) < 0.8\n",
        "train = data_new[mask]\n",
        "val = data_new[~mask]"
      ],
      "execution_count": 0,
      "outputs": []
    },
    {
      "cell_type": "code",
      "metadata": {
        "id": "EwD2VtEdTllk",
        "colab_type": "code",
        "outputId": "dbc00aa8-f636-4889-be4f-fee1716e5dd2",
        "colab": {
          "base_uri": "https://localhost:8080/",
          "height": 36
        }
      },
      "source": [
        "len(train),len(val)"
      ],
      "execution_count": 0,
      "outputs": [
        {
          "output_type": "execute_result",
          "data": {
            "text/plain": [
              "(800789, 199420)"
            ]
          },
          "metadata": {
            "tags": []
          },
          "execution_count": 9
        }
      ]
    },
    {
      "cell_type": "code",
      "metadata": {
        "id": "pmIVRwLAWXyA",
        "colab_type": "code",
        "outputId": "c61324ee-198d-46c7-dd67-519b80600a5c",
        "colab": {
          "base_uri": "https://localhost:8080/",
          "height": 206
        }
      },
      "source": [
        "data_new.head(5)"
      ],
      "execution_count": 0,
      "outputs": [
        {
          "output_type": "execute_result",
          "data": {
            "text/html": [
              "<div>\n",
              "<style scoped>\n",
              "    .dataframe tbody tr th:only-of-type {\n",
              "        vertical-align: middle;\n",
              "    }\n",
              "\n",
              "    .dataframe tbody tr th {\n",
              "        vertical-align: top;\n",
              "    }\n",
              "\n",
              "    .dataframe thead th {\n",
              "        text-align: right;\n",
              "    }\n",
              "</style>\n",
              "<table border=\"1\" class=\"dataframe\">\n",
              "  <thead>\n",
              "    <tr style=\"text-align: right;\">\n",
              "      <th></th>\n",
              "      <th>user_id</th>\n",
              "      <th>movie_id</th>\n",
              "      <th>rating</th>\n",
              "      <th>timestamp</th>\n",
              "    </tr>\n",
              "  </thead>\n",
              "  <tbody>\n",
              "    <tr>\n",
              "      <th>0</th>\n",
              "      <td>1</td>\n",
              "      <td>1105</td>\n",
              "      <td>5</td>\n",
              "      <td>978300760</td>\n",
              "    </tr>\n",
              "    <tr>\n",
              "      <th>1</th>\n",
              "      <td>1</td>\n",
              "      <td>640</td>\n",
              "      <td>3</td>\n",
              "      <td>978302109</td>\n",
              "    </tr>\n",
              "    <tr>\n",
              "      <th>2</th>\n",
              "      <td>1</td>\n",
              "      <td>854</td>\n",
              "      <td>3</td>\n",
              "      <td>978301968</td>\n",
              "    </tr>\n",
              "    <tr>\n",
              "      <th>3</th>\n",
              "      <td>1</td>\n",
              "      <td>3178</td>\n",
              "      <td>4</td>\n",
              "      <td>978300275</td>\n",
              "    </tr>\n",
              "    <tr>\n",
              "      <th>4</th>\n",
              "      <td>1</td>\n",
              "      <td>2163</td>\n",
              "      <td>5</td>\n",
              "      <td>978824291</td>\n",
              "    </tr>\n",
              "  </tbody>\n",
              "</table>\n",
              "</div>"
            ],
            "text/plain": [
              "   user_id  movie_id  rating  timestamp\n",
              "0        1      1105       5  978300760\n",
              "1        1       640       3  978302109\n",
              "2        1       854       3  978301968\n",
              "3        1      3178       4  978300275\n",
              "4        1      2163       5  978824291"
            ]
          },
          "metadata": {
            "tags": []
          },
          "execution_count": 10
        }
      ]
    },
    {
      "cell_type": "code",
      "metadata": {
        "id": "9oY27j9oqDQX",
        "colab_type": "code",
        "outputId": "44158dfc-a2d9-403a-d10f-0f783c61c76b",
        "colab": {
          "base_uri": "https://localhost:8080/",
          "height": 242
        }
      },
      "source": [
        "train.head(5),val.head(5)"
      ],
      "execution_count": 0,
      "outputs": [
        {
          "output_type": "execute_result",
          "data": {
            "text/plain": [
              "(   user_id  movie_id  rating  timestamp\n",
              " 0        1      1105       5  978300760\n",
              " 1        1       640       3  978302109\n",
              " 2        1       854       3  978301968\n",
              " 4        1      2163       5  978824291\n",
              " 5        1      1108       3  978302268,\n",
              "     user_id  movie_id  rating  timestamp\n",
              " 3         1      3178       4  978300275\n",
              " 6         1      1196       5  978302039\n",
              " 11        1       878       4  978301752\n",
              " 19        1      2593       4  978302039\n",
              " 21        1       690       3  978300760)"
            ]
          },
          "metadata": {
            "tags": []
          },
          "execution_count": 11
        }
      ]
    },
    {
      "cell_type": "code",
      "metadata": {
        "id": "ggC5aCHbF1d4",
        "colab_type": "code",
        "colab": {}
      },
      "source": [
        "del model"
      ],
      "execution_count": 0,
      "outputs": []
    },
    {
      "cell_type": "code",
      "metadata": {
        "id": "0a_wqtkks_iH",
        "colab_type": "code",
        "colab": {}
      },
      "source": [
        "#USER\n",
        "c1_in=Input(shape=(1,))\n",
        "c1=Embedding(input_dim = len(data['user_id'].unique()),output_dim  = 96,embeddings_initializer='he_normal')(c1_in)\n",
        "c1 =Flatten()(c1)\n",
        "c1  = Dropout(0.4)(c1)\n",
        "\n",
        "\n",
        "#MOVIE\n",
        "c2_in=Input(shape=(1,))\n",
        "c2=Embedding(input_dim = len(data['movie_id'].unique()),output_dim = 96,embeddings_initializer='he_normal')(c2_in)\n",
        "c2=Flatten()(c2)\n",
        "c2  = Dropout(0.4)(c2)\n",
        "\n",
        "\n",
        "c1_c2 =dot([c1,c2],normalize = True,axes=1)   #cosine similarity\n",
        "c3 = Dense(units = 128,kernel_initializer='he_normal')(c1_c2)\n",
        "#c4 = BatchNormalization()(c3)\n",
        "c5 = LeakyReLU(alpha = 0.2)(c3)\n",
        "c6 = Dropout(0.45)(c5)\n",
        "\n",
        "c7 = Dense(units = 1,activation = 'relu')(c6)\n",
        "model =Model([c1_in, c2_in],c7)\n",
        "es = EarlyStopping(monitor='val_loss', patience= 10, verbose=1,mode='min')"
      ],
      "execution_count": 0,
      "outputs": []
    },
    {
      "cell_type": "code",
      "metadata": {
        "id": "NYZx_dJsthcH",
        "colab_type": "code",
        "outputId": "77f8060b-72c3-4664-f491-1e69dd778458",
        "colab": {
          "base_uri": "https://localhost:8080/",
          "height": 1000
        }
      },
      "source": [
        "adam_opt = Adam(lr = 1e-4)\n",
        "model.compile(optimizer=adam_opt,loss='mse',metrics = ['mae'])\n",
        "history  = model.fit([train['user_id'],train['movie_id']],train['rating'], batch_size=1024,epochs =100, validation_data = ([val['user_id'],val['movie_id']],val['rating']),verbose = 1,callbacks= [es])"
      ],
      "execution_count": 0,
      "outputs": [
        {
          "output_type": "stream",
          "text": [
            "Train on 800789 samples, validate on 199420 samples\n",
            "Epoch 1/100\n",
            "800789/800789 [==============================] - 7s 9us/step - loss: 9.9000 - mean_absolute_error: 2.9087 - val_loss: 5.4780 - val_mean_absolute_error: 2.1095\n",
            "Epoch 2/100\n",
            "800789/800789 [==============================] - 7s 9us/step - loss: 3.0132 - mean_absolute_error: 1.4744 - val_loss: 1.5193 - val_mean_absolute_error: 1.0160\n",
            "Epoch 3/100\n",
            "800789/800789 [==============================] - 7s 8us/step - loss: 1.5135 - mean_absolute_error: 1.0086 - val_loss: 1.2924 - val_mean_absolute_error: 0.9489\n",
            "Epoch 4/100\n",
            "800789/800789 [==============================] - 6s 8us/step - loss: 1.4585 - mean_absolute_error: 0.9825 - val_loss: 1.2755 - val_mean_absolute_error: 0.9431\n",
            "Epoch 5/100\n",
            "800789/800789 [==============================] - 6s 8us/step - loss: 1.4364 - mean_absolute_error: 0.9752 - val_loss: 1.2652 - val_mean_absolute_error: 0.9401\n",
            "Epoch 6/100\n",
            "800789/800789 [==============================] - 6s 8us/step - loss: 1.4191 - mean_absolute_error: 0.9694 - val_loss: 1.2597 - val_mean_absolute_error: 0.9390\n",
            "Epoch 7/100\n",
            "800789/800789 [==============================] - 6s 8us/step - loss: 1.4045 - mean_absolute_error: 0.9643 - val_loss: 1.2570 - val_mean_absolute_error: 0.9383\n",
            "Epoch 8/100\n",
            "800789/800789 [==============================] - 6s 8us/step - loss: 1.3929 - mean_absolute_error: 0.9606 - val_loss: 1.2564 - val_mean_absolute_error: 0.9380\n",
            "Epoch 9/100\n",
            "800789/800789 [==============================] - 6s 8us/step - loss: 1.3765 - mean_absolute_error: 0.9554 - val_loss: 1.2562 - val_mean_absolute_error: 0.9369\n",
            "Epoch 10/100\n",
            "800789/800789 [==============================] - 6s 8us/step - loss: 1.3616 - mean_absolute_error: 0.9510 - val_loss: 1.2558 - val_mean_absolute_error: 0.9358\n",
            "Epoch 11/100\n",
            "800789/800789 [==============================] - 6s 8us/step - loss: 1.3481 - mean_absolute_error: 0.9465 - val_loss: 1.2581 - val_mean_absolute_error: 0.9382\n",
            "Epoch 12/100\n",
            "800789/800789 [==============================] - 6s 8us/step - loss: 1.3342 - mean_absolute_error: 0.9416 - val_loss: 1.2573 - val_mean_absolute_error: 0.9363\n",
            "Epoch 13/100\n",
            "800789/800789 [==============================] - 6s 8us/step - loss: 1.3192 - mean_absolute_error: 0.9369 - val_loss: 1.2565 - val_mean_absolute_error: 0.9336\n",
            "Epoch 14/100\n",
            "800789/800789 [==============================] - 7s 9us/step - loss: 1.3042 - mean_absolute_error: 0.9312 - val_loss: 1.2511 - val_mean_absolute_error: 0.9293\n",
            "Epoch 15/100\n",
            "800789/800789 [==============================] - 7s 8us/step - loss: 1.2828 - mean_absolute_error: 0.9227 - val_loss: 1.2309 - val_mean_absolute_error: 0.9169\n",
            "Epoch 16/100\n",
            "800789/800789 [==============================] - 6s 8us/step - loss: 1.2468 - mean_absolute_error: 0.9068 - val_loss: 1.1848 - val_mean_absolute_error: 0.8880\n",
            "Epoch 17/100\n",
            "800789/800789 [==============================] - 6s 8us/step - loss: 1.1906 - mean_absolute_error: 0.8814 - val_loss: 1.1201 - val_mean_absolute_error: 0.8476\n",
            "Epoch 18/100\n",
            "800789/800789 [==============================] - 6s 8us/step - loss: 1.1201 - mean_absolute_error: 0.8494 - val_loss: 1.0562 - val_mean_absolute_error: 0.8098\n",
            "Epoch 19/100\n",
            "800789/800789 [==============================] - 6s 8us/step - loss: 1.0473 - mean_absolute_error: 0.8184 - val_loss: 0.9996 - val_mean_absolute_error: 0.7876\n",
            "Epoch 20/100\n",
            "800789/800789 [==============================] - 6s 8us/step - loss: 0.9808 - mean_absolute_error: 0.7912 - val_loss: 0.9537 - val_mean_absolute_error: 0.7684\n",
            "Epoch 21/100\n",
            "800789/800789 [==============================] - 6s 8us/step - loss: 0.9267 - mean_absolute_error: 0.7688 - val_loss: 0.9359 - val_mean_absolute_error: 0.7581\n",
            "Epoch 22/100\n",
            "800789/800789 [==============================] - 6s 8us/step - loss: 0.8859 - mean_absolute_error: 0.7506 - val_loss: 0.9258 - val_mean_absolute_error: 0.7517\n",
            "Epoch 23/100\n",
            "800789/800789 [==============================] - 6s 8us/step - loss: 0.8570 - mean_absolute_error: 0.7381 - val_loss: 0.9188 - val_mean_absolute_error: 0.7472\n",
            "Epoch 24/100\n",
            "800789/800789 [==============================] - 7s 8us/step - loss: 0.8322 - mean_absolute_error: 0.7270 - val_loss: 0.9107 - val_mean_absolute_error: 0.7430\n",
            "Epoch 25/100\n",
            "800789/800789 [==============================] - 6s 8us/step - loss: 0.8097 - mean_absolute_error: 0.7169 - val_loss: 0.9184 - val_mean_absolute_error: 0.7440\n",
            "Epoch 26/100\n",
            "800789/800789 [==============================] - 6s 8us/step - loss: 0.7920 - mean_absolute_error: 0.7086 - val_loss: 0.9082 - val_mean_absolute_error: 0.7398\n",
            "Epoch 27/100\n",
            "800789/800789 [==============================] - 6s 8us/step - loss: 0.7763 - mean_absolute_error: 0.7014 - val_loss: 0.9040 - val_mean_absolute_error: 0.7380\n",
            "Epoch 28/100\n",
            "800789/800789 [==============================] - 7s 9us/step - loss: 0.7644 - mean_absolute_error: 0.6958 - val_loss: 0.9070 - val_mean_absolute_error: 0.7379\n",
            "Epoch 29/100\n",
            "800789/800789 [==============================] - 7s 9us/step - loss: 0.7499 - mean_absolute_error: 0.6887 - val_loss: 0.9032 - val_mean_absolute_error: 0.7361\n",
            "Epoch 30/100\n",
            "800789/800789 [==============================] - 7s 8us/step - loss: 0.7403 - mean_absolute_error: 0.6844 - val_loss: 0.9011 - val_mean_absolute_error: 0.7350\n",
            "Epoch 31/100\n",
            "800789/800789 [==============================] - 6s 8us/step - loss: 0.7307 - mean_absolute_error: 0.6798 - val_loss: 0.8881 - val_mean_absolute_error: 0.7305\n",
            "Epoch 32/100\n",
            "800789/800789 [==============================] - 6s 8us/step - loss: 0.7211 - mean_absolute_error: 0.6754 - val_loss: 0.8895 - val_mean_absolute_error: 0.7309\n",
            "Epoch 33/100\n",
            "800789/800789 [==============================] - 6s 8us/step - loss: 0.7135 - mean_absolute_error: 0.6713 - val_loss: 0.8900 - val_mean_absolute_error: 0.7312\n",
            "Epoch 34/100\n",
            "800789/800789 [==============================] - 6s 8us/step - loss: 0.7067 - mean_absolute_error: 0.6684 - val_loss: 0.8854 - val_mean_absolute_error: 0.7294\n",
            "Epoch 35/100\n",
            "800789/800789 [==============================] - 6s 8us/step - loss: 0.6997 - mean_absolute_error: 0.6649 - val_loss: 0.8857 - val_mean_absolute_error: 0.7298\n",
            "Epoch 36/100\n",
            "800789/800789 [==============================] - 6s 8us/step - loss: 0.6931 - mean_absolute_error: 0.6617 - val_loss: 0.8806 - val_mean_absolute_error: 0.7277\n",
            "Epoch 37/100\n",
            "800789/800789 [==============================] - 6s 8us/step - loss: 0.6877 - mean_absolute_error: 0.6590 - val_loss: 0.8816 - val_mean_absolute_error: 0.7282\n",
            "Epoch 38/100\n",
            "800789/800789 [==============================] - 7s 8us/step - loss: 0.6809 - mean_absolute_error: 0.6558 - val_loss: 0.8832 - val_mean_absolute_error: 0.7289\n",
            "Epoch 39/100\n",
            "800789/800789 [==============================] - 6s 8us/step - loss: 0.6758 - mean_absolute_error: 0.6530 - val_loss: 0.8731 - val_mean_absolute_error: 0.7253\n",
            "Epoch 40/100\n",
            "800789/800789 [==============================] - 7s 8us/step - loss: 0.6725 - mean_absolute_error: 0.6517 - val_loss: 0.8733 - val_mean_absolute_error: 0.7251\n",
            "Epoch 41/100\n",
            "800789/800789 [==============================] - 7s 9us/step - loss: 0.6675 - mean_absolute_error: 0.6491 - val_loss: 0.8756 - val_mean_absolute_error: 0.7262\n",
            "Epoch 42/100\n",
            "800789/800789 [==============================] - 6s 8us/step - loss: 0.6635 - mean_absolute_error: 0.6470 - val_loss: 0.8763 - val_mean_absolute_error: 0.7266\n",
            "Epoch 43/100\n",
            "800789/800789 [==============================] - 7s 9us/step - loss: 0.6580 - mean_absolute_error: 0.6442 - val_loss: 0.8754 - val_mean_absolute_error: 0.7265\n",
            "Epoch 44/100\n",
            "800789/800789 [==============================] - 7s 8us/step - loss: 0.6556 - mean_absolute_error: 0.6431 - val_loss: 0.8690 - val_mean_absolute_error: 0.7239\n",
            "Epoch 45/100\n",
            "800789/800789 [==============================] - 6s 8us/step - loss: 0.6521 - mean_absolute_error: 0.6412 - val_loss: 0.8763 - val_mean_absolute_error: 0.7270\n",
            "Epoch 46/100\n",
            "800789/800789 [==============================] - 6s 8us/step - loss: 0.6482 - mean_absolute_error: 0.6393 - val_loss: 0.8693 - val_mean_absolute_error: 0.7243\n",
            "Epoch 47/100\n",
            "800789/800789 [==============================] - 6s 8us/step - loss: 0.6450 - mean_absolute_error: 0.6374 - val_loss: 0.8692 - val_mean_absolute_error: 0.7244\n",
            "Epoch 48/100\n",
            "800789/800789 [==============================] - 6s 8us/step - loss: 0.6424 - mean_absolute_error: 0.6361 - val_loss: 0.8740 - val_mean_absolute_error: 0.7263\n",
            "Epoch 49/100\n",
            "800789/800789 [==============================] - 6s 8us/step - loss: 0.6385 - mean_absolute_error: 0.6342 - val_loss: 0.8748 - val_mean_absolute_error: 0.7268\n",
            "Epoch 50/100\n",
            "800789/800789 [==============================] - 6s 8us/step - loss: 0.6371 - mean_absolute_error: 0.6335 - val_loss: 0.8688 - val_mean_absolute_error: 0.7243\n",
            "Epoch 51/100\n",
            "800789/800789 [==============================] - 7s 9us/step - loss: 0.6361 - mean_absolute_error: 0.6334 - val_loss: 0.8671 - val_mean_absolute_error: 0.7235\n",
            "Epoch 52/100\n",
            "800789/800789 [==============================] - 7s 8us/step - loss: 0.6328 - mean_absolute_error: 0.6314 - val_loss: 0.8674 - val_mean_absolute_error: 0.7238\n",
            "Epoch 53/100\n",
            "800789/800789 [==============================] - 6s 8us/step - loss: 0.6316 - mean_absolute_error: 0.6311 - val_loss: 0.8691 - val_mean_absolute_error: 0.7247\n",
            "Epoch 54/100\n",
            "800789/800789 [==============================] - 6s 8us/step - loss: 0.6272 - mean_absolute_error: 0.6285 - val_loss: 0.8673 - val_mean_absolute_error: 0.7241\n",
            "Epoch 55/100\n",
            "800789/800789 [==============================] - 6s 8us/step - loss: 0.6258 - mean_absolute_error: 0.6275 - val_loss: 0.8648 - val_mean_absolute_error: 0.7232\n",
            "Epoch 56/100\n",
            "800789/800789 [==============================] - 7s 8us/step - loss: 0.6247 - mean_absolute_error: 0.6272 - val_loss: 0.8640 - val_mean_absolute_error: 0.7229\n",
            "Epoch 57/100\n",
            "800789/800789 [==============================] - 7s 8us/step - loss: 0.6220 - mean_absolute_error: 0.6259 - val_loss: 0.8690 - val_mean_absolute_error: 0.7248\n",
            "Epoch 58/100\n",
            "800789/800789 [==============================] - 6s 8us/step - loss: 0.6208 - mean_absolute_error: 0.6252 - val_loss: 0.8655 - val_mean_absolute_error: 0.7234\n",
            "Epoch 59/100\n",
            "800789/800789 [==============================] - 6s 8us/step - loss: 0.6185 - mean_absolute_error: 0.6240 - val_loss: 0.8653 - val_mean_absolute_error: 0.7236\n",
            "Epoch 60/100\n",
            "800789/800789 [==============================] - 6s 8us/step - loss: 0.6178 - mean_absolute_error: 0.6235 - val_loss: 0.8626 - val_mean_absolute_error: 0.7225\n",
            "Epoch 61/100\n",
            "800789/800789 [==============================] - 6s 8us/step - loss: 0.6162 - mean_absolute_error: 0.6231 - val_loss: 0.8679 - val_mean_absolute_error: 0.7248\n",
            "Epoch 62/100\n",
            "800789/800789 [==============================] - 6s 8us/step - loss: 0.6143 - mean_absolute_error: 0.6220 - val_loss: 0.8656 - val_mean_absolute_error: 0.7238\n",
            "Epoch 63/100\n",
            "800789/800789 [==============================] - 7s 8us/step - loss: 0.6119 - mean_absolute_error: 0.6203 - val_loss: 0.8620 - val_mean_absolute_error: 0.7225\n",
            "Epoch 64/100\n",
            "800789/800789 [==============================] - 7s 9us/step - loss: 0.6105 - mean_absolute_error: 0.6199 - val_loss: 0.8620 - val_mean_absolute_error: 0.7223\n",
            "Epoch 65/100\n",
            "800789/800789 [==============================] - 6s 8us/step - loss: 0.6100 - mean_absolute_error: 0.6197 - val_loss: 0.8666 - val_mean_absolute_error: 0.7243\n",
            "Epoch 66/100\n",
            "800789/800789 [==============================] - 6s 8us/step - loss: 0.6084 - mean_absolute_error: 0.6190 - val_loss: 0.8617 - val_mean_absolute_error: 0.7222\n",
            "Epoch 67/100\n",
            "800789/800789 [==============================] - 6s 8us/step - loss: 0.6070 - mean_absolute_error: 0.6179 - val_loss: 0.8620 - val_mean_absolute_error: 0.7224\n",
            "Epoch 68/100\n",
            "800789/800789 [==============================] - 7s 8us/step - loss: 0.6064 - mean_absolute_error: 0.6179 - val_loss: 0.8659 - val_mean_absolute_error: 0.7239\n",
            "Epoch 69/100\n",
            "800789/800789 [==============================] - 7s 8us/step - loss: 0.6058 - mean_absolute_error: 0.6175 - val_loss: 0.8609 - val_mean_absolute_error: 0.7218\n",
            "Epoch 70/100\n",
            "800789/800789 [==============================] - 6s 8us/step - loss: 0.6041 - mean_absolute_error: 0.6165 - val_loss: 0.8646 - val_mean_absolute_error: 0.7234\n",
            "Epoch 71/100\n",
            "800789/800789 [==============================] - 6s 8us/step - loss: 0.6023 - mean_absolute_error: 0.6156 - val_loss: 0.8596 - val_mean_absolute_error: 0.7211\n",
            "Epoch 72/100\n",
            "800789/800789 [==============================] - 7s 8us/step - loss: 0.6025 - mean_absolute_error: 0.6159 - val_loss: 0.8562 - val_mean_absolute_error: 0.7198\n",
            "Epoch 73/100\n",
            "800789/800789 [==============================] - 6s 8us/step - loss: 0.6005 - mean_absolute_error: 0.6145 - val_loss: 0.8624 - val_mean_absolute_error: 0.7224\n",
            "Epoch 74/100\n",
            "800789/800789 [==============================] - 7s 9us/step - loss: 0.6004 - mean_absolute_error: 0.6144 - val_loss: 0.8612 - val_mean_absolute_error: 0.7218\n",
            "Epoch 75/100\n",
            "800789/800789 [==============================] - 7s 8us/step - loss: 0.5994 - mean_absolute_error: 0.6137 - val_loss: 0.8624 - val_mean_absolute_error: 0.7222\n",
            "Epoch 76/100\n",
            "800789/800789 [==============================] - 7s 8us/step - loss: 0.5983 - mean_absolute_error: 0.6133 - val_loss: 0.8638 - val_mean_absolute_error: 0.7228\n",
            "Epoch 77/100\n",
            "800789/800789 [==============================] - 6s 8us/step - loss: 0.5963 - mean_absolute_error: 0.6121 - val_loss: 0.8573 - val_mean_absolute_error: 0.7203\n",
            "Epoch 78/100\n",
            "800789/800789 [==============================] - 6s 8us/step - loss: 0.5968 - mean_absolute_error: 0.6123 - val_loss: 0.8599 - val_mean_absolute_error: 0.7215\n",
            "Epoch 79/100\n",
            "800789/800789 [==============================] - 7s 8us/step - loss: 0.5946 - mean_absolute_error: 0.6115 - val_loss: 0.8611 - val_mean_absolute_error: 0.7220\n",
            "Epoch 80/100\n",
            "800789/800789 [==============================] - 6s 8us/step - loss: 0.5943 - mean_absolute_error: 0.6113 - val_loss: 0.8598 - val_mean_absolute_error: 0.7214\n",
            "Epoch 81/100\n",
            "800789/800789 [==============================] - 6s 8us/step - loss: 0.5925 - mean_absolute_error: 0.6103 - val_loss: 0.8631 - val_mean_absolute_error: 0.7227\n",
            "Epoch 82/100\n",
            "800789/800789 [==============================] - 6s 8us/step - loss: 0.5923 - mean_absolute_error: 0.6102 - val_loss: 0.8654 - val_mean_absolute_error: 0.7236\n",
            "Epoch 00082: early stopping\n"
          ],
          "name": "stdout"
        }
      ]
    },
    {
      "cell_type": "code",
      "metadata": {
        "id": "_vhisrYB5rWG",
        "colab_type": "code",
        "outputId": "e63606d7-688d-4071-b03e-6d1373b9036d",
        "colab": {
          "base_uri": "https://localhost:8080/",
          "height": 295
        }
      },
      "source": [
        "plt.plot(history.history['loss'])\n",
        "plt.plot(history.history['val_loss'])\n",
        "plt.title('model loss')\n",
        "plt.ylabel('loss')\n",
        "plt.xlabel('epoch')\n",
        "plt.legend(['train', 'test'], loc='upper left')\n",
        "plt.show()"
      ],
      "execution_count": 0,
      "outputs": [
        {
          "output_type": "display_data",
          "data": {
            "image/png": "[encoded data removed]",
            "text/plain": [
              "<Figure size 432x288 with 1 Axes>"
            ]
          },
          "metadata": {
            "tags": []
          }
        }
      ]
    },
    {
      "cell_type": "code",
      "metadata": {
        "id": "PF4rM5UPaAuB",
        "colab_type": "code",
        "outputId": "0cfb813b-6090-4153-8ee6-6fbd54423bad",
        "colab": {
          "base_uri": "https://localhost:8080/",
          "height": 54
        }
      },
      "source": [
        "predictions =model.predict([val['user_id'],val['movie_id']])\n",
        "test_performance = mean_absolute_error(val[\"rating\"], predictions)\n",
        "test_performance_r2 = r2_score(val['rating'],predictions)\n",
        "print(\"Mean absolute error for model 1 with no bias units: %s \" % test_performance)\n",
        "print(\"r2 score for model 1 with no bias units: %s \" % test_performance_r2)"
      ],
      "execution_count": 0,
      "outputs": [
        {
          "output_type": "stream",
          "text": [
            "Mean absolute error for model 1 with no bias units: 0.7236180240370759 \n",
            "r2 score for model 1 with no bias units: 0.30492996083660484 \n"
          ],
          "name": "stdout"
        }
      ]
    },
    {
      "cell_type": "markdown",
      "metadata": {
        "id": "h_9z2ASYKoep",
        "colab_type": "text"
      },
      "source": [
        "<h3>Mean absolute error for model 1 with no bias units: 0.7236180240370759 \n",
        "<h3>r2 score for model 1 with no bias units: 0.30492996083660484 "
      ]
    },
    {
      "cell_type": "markdown",
      "metadata": {
        "id": "k-dEnoJoqnkQ",
        "colab_type": "text"
      },
      "source": [
        "#MODEL 2"
      ]
    },
    {
      "cell_type": "code",
      "metadata": {
        "id": "tYi4-fwFfpJp",
        "colab_type": "code",
        "colab": {}
      },
      "source": [
        "#USER\n",
        "c1_in=Input(shape=(1,))\n",
        "c1=Embedding(input_dim = len(data['user_id'].unique()),output_dim  = 96,embeddings_initializer='he_normal')(c1_in)\n",
        "c1_bias = Embedding(input_dim = len(data['user_id'].unique()),output_dim = 1,embeddings_initializer='he_normal')(c1_in)\n",
        "#c1 =Flatten()(c1)\n",
        "#c1  = Dropout(0.4)(c1)\n",
        "\n",
        "\n",
        "#MOVIE\n",
        "c2_in=Input(shape=(1,))\n",
        "c2=Embedding(input_dim = len(data['movie_id'].unique()),output_dim = 96,embeddings_initializer='he_normal')(c2_in)\n",
        "c2_bias = Embedding(input_dim = len(data['movie_id'].unique()),output_dim = 1,embeddings_initializer='he_normal')(c2_in)\n",
        "#c2=Flatten()(c2)\n",
        "#c2  = Dropout(0.4)(c2)\n",
        "\n",
        "\n",
        "c1_c2 =multiply([c1,c2])\n",
        "c4 = Dropout(0.4)(c1_c2)\n",
        "c1_c2_bias = concatenate([c4, c1_bias, c2_bias])\n",
        "c5 = Flatten()(c1_c2_bias)\n",
        "c6 = Dense(units = 128,kernel_initializer='he_normal')(c5)\n",
        "#c4 = BatchNormalization()(c3)\n",
        "c7 = LeakyReLU(alpha = 0.2)(c6)\n",
        "c8 = Dropout(0.45)(c7)\n",
        "\n",
        "c9 = Dense(units = 1,activation = 'relu')(c8)\n",
        "modelbias =Model([c1_in, c2_in],c9)\n",
        "es = EarlyStopping(monitor='val_loss', patience= 20, verbose=1,mode='min')"
      ],
      "execution_count": 0,
      "outputs": []
    },
    {
      "cell_type": "code",
      "metadata": {
        "id": "HfkNxvFAiO7C",
        "colab_type": "code",
        "outputId": "ea7e7b97-4766-4ed1-ef9e-da43fd141662",
        "colab": {
          "base_uri": "https://localhost:8080/",
          "height": 1000
        }
      },
      "source": [
        "adam_opt = Adam(lr = 1e-4)\n",
        "modelbias.compile(optimizer=adam_opt,loss='mse',metrics = [\"mae\"])\n",
        "history2  = modelbias.fit([train['user_id'],train['movie_id']],train['rating'], batch_size=1024,epochs =100, validation_data = ([val['user_id'],val['movie_id']],val['rating']),verbose = 1,callbacks = [es])"
      ],
      "execution_count": 0,
      "outputs": [
        {
          "output_type": "stream",
          "text": [
            "Train on 800789 samples, validate on 199420 samples\n",
            "Epoch 1/100\n",
            "800789/800789 [==============================] - 6s 8us/step - loss: 9.8978 - mean_absolute_error: 2.9084 - val_loss: 4.7900 - val_mean_absolute_error: 1.9609\n",
            "Epoch 2/100\n",
            "800789/800789 [==============================] - 6s 7us/step - loss: 2.2659 - mean_absolute_error: 1.2584 - val_loss: 1.1653 - val_mean_absolute_error: 0.9038\n",
            "Epoch 3/100\n",
            "800789/800789 [==============================] - 6s 8us/step - loss: 1.1881 - mean_absolute_error: 0.8867 - val_loss: 1.0139 - val_mean_absolute_error: 0.8191\n",
            "Epoch 4/100\n",
            "800789/800789 [==============================] - 6s 8us/step - loss: 1.0764 - mean_absolute_error: 0.8364 - val_loss: 0.9250 - val_mean_absolute_error: 0.7737\n",
            "Epoch 5/100\n",
            "800789/800789 [==============================] - 6s 7us/step - loss: 0.9949 - mean_absolute_error: 0.7998 - val_loss: 0.8698 - val_mean_absolute_error: 0.7457\n",
            "Epoch 6/100\n",
            "800789/800789 [==============================] - 6s 7us/step - loss: 0.9385 - mean_absolute_error: 0.7742 - val_loss: 0.8369 - val_mean_absolute_error: 0.7286\n",
            "Epoch 7/100\n",
            "800789/800789 [==============================] - 6s 7us/step - loss: 0.8910 - mean_absolute_error: 0.7521 - val_loss: 0.8140 - val_mean_absolute_error: 0.7159\n",
            "Epoch 8/100\n",
            "800789/800789 [==============================] - 6s 7us/step - loss: 0.8463 - mean_absolute_error: 0.7316 - val_loss: 0.7978 - val_mean_absolute_error: 0.7074\n",
            "Epoch 9/100\n",
            "800789/800789 [==============================] - 6s 7us/step - loss: 0.8048 - mean_absolute_error: 0.7121 - val_loss: 0.7860 - val_mean_absolute_error: 0.7010\n",
            "Epoch 10/100\n",
            "800789/800789 [==============================] - 6s 7us/step - loss: 0.7631 - mean_absolute_error: 0.6922 - val_loss: 0.7785 - val_mean_absolute_error: 0.6971\n",
            "Epoch 11/100\n",
            "800789/800789 [==============================] - 6s 7us/step - loss: 0.7259 - mean_absolute_error: 0.6744 - val_loss: 0.7742 - val_mean_absolute_error: 0.6948\n",
            "Epoch 12/100\n",
            "800789/800789 [==============================] - 6s 7us/step - loss: 0.6907 - mean_absolute_error: 0.6573 - val_loss: 0.7727 - val_mean_absolute_error: 0.6937\n",
            "Epoch 13/100\n",
            "800789/800789 [==============================] - 6s 7us/step - loss: 0.6594 - mean_absolute_error: 0.6416 - val_loss: 0.7741 - val_mean_absolute_error: 0.6943\n",
            "Epoch 14/100\n",
            "800789/800789 [==============================] - 6s 7us/step - loss: 0.6337 - mean_absolute_error: 0.6288 - val_loss: 0.7778 - val_mean_absolute_error: 0.6969\n",
            "Epoch 15/100\n",
            "800789/800789 [==============================] - 6s 7us/step - loss: 0.6132 - mean_absolute_error: 0.6182 - val_loss: 0.7801 - val_mean_absolute_error: 0.6971\n",
            "Epoch 16/100\n",
            "800789/800789 [==============================] - 6s 7us/step - loss: 0.5953 - mean_absolute_error: 0.6088 - val_loss: 0.7828 - val_mean_absolute_error: 0.6976\n",
            "Epoch 17/100\n",
            "800789/800789 [==============================] - 6s 7us/step - loss: 0.5811 - mean_absolute_error: 0.6011 - val_loss: 0.7855 - val_mean_absolute_error: 0.6988\n",
            "Epoch 18/100\n",
            "800789/800789 [==============================] - 6s 7us/step - loss: 0.5683 - mean_absolute_error: 0.5940 - val_loss: 0.7877 - val_mean_absolute_error: 0.6996\n",
            "Epoch 19/100\n",
            "800789/800789 [==============================] - 6s 7us/step - loss: 0.5558 - mean_absolute_error: 0.5880 - val_loss: 0.7898 - val_mean_absolute_error: 0.7005\n",
            "Epoch 20/100\n",
            "800789/800789 [==============================] - 6s 8us/step - loss: 0.5470 - mean_absolute_error: 0.5829 - val_loss: 0.7916 - val_mean_absolute_error: 0.7013\n",
            "Epoch 21/100\n",
            "800789/800789 [==============================] - 6s 7us/step - loss: 0.5351 - mean_absolute_error: 0.5762 - val_loss: 0.7919 - val_mean_absolute_error: 0.7004\n",
            "Epoch 22/100\n",
            "800789/800789 [==============================] - 6s 7us/step - loss: 0.5274 - mean_absolute_error: 0.5721 - val_loss: 0.7931 - val_mean_absolute_error: 0.7012\n",
            "Epoch 23/100\n",
            "800789/800789 [==============================] - 6s 7us/step - loss: 0.5194 - mean_absolute_error: 0.5678 - val_loss: 0.7937 - val_mean_absolute_error: 0.7010\n",
            "Epoch 24/100\n",
            "800789/800789 [==============================] - 6s 7us/step - loss: 0.5110 - mean_absolute_error: 0.5630 - val_loss: 0.7948 - val_mean_absolute_error: 0.7019\n",
            "Epoch 25/100\n",
            "800789/800789 [==============================] - 6s 7us/step - loss: 0.5053 - mean_absolute_error: 0.5600 - val_loss: 0.7945 - val_mean_absolute_error: 0.7008\n",
            "Epoch 26/100\n",
            "800789/800789 [==============================] - 6s 7us/step - loss: 0.4977 - mean_absolute_error: 0.5553 - val_loss: 0.7946 - val_mean_absolute_error: 0.7005\n",
            "Epoch 27/100\n",
            "800789/800789 [==============================] - 6s 7us/step - loss: 0.4936 - mean_absolute_error: 0.5533 - val_loss: 0.7954 - val_mean_absolute_error: 0.7010\n",
            "Epoch 28/100\n",
            "800789/800789 [==============================] - 6s 7us/step - loss: 0.4876 - mean_absolute_error: 0.5501 - val_loss: 0.7956 - val_mean_absolute_error: 0.7010\n",
            "Epoch 29/100\n",
            "800789/800789 [==============================] - 6s 7us/step - loss: 0.4820 - mean_absolute_error: 0.5468 - val_loss: 0.7958 - val_mean_absolute_error: 0.7006\n",
            "Epoch 30/100\n",
            "800789/800789 [==============================] - 6s 7us/step - loss: 0.4763 - mean_absolute_error: 0.5436 - val_loss: 0.7968 - val_mean_absolute_error: 0.7014\n",
            "Epoch 31/100\n",
            "800789/800789 [==============================] - 6s 7us/step - loss: 0.4720 - mean_absolute_error: 0.5406 - val_loss: 0.7968 - val_mean_absolute_error: 0.7011\n",
            "Epoch 32/100\n",
            "800789/800789 [==============================] - 6s 7us/step - loss: 0.4681 - mean_absolute_error: 0.5385 - val_loss: 0.7973 - val_mean_absolute_error: 0.7012\n",
            "Epoch 00032: early stopping\n"
          ],
          "name": "stdout"
        }
      ]
    },
    {
      "cell_type": "code",
      "metadata": {
        "id": "K5bh70conNj0",
        "colab_type": "code",
        "outputId": "1345f4c6-0f2c-41a7-f078-81b53efb9355",
        "colab": {
          "base_uri": "https://localhost:8080/",
          "height": 54
        }
      },
      "source": [
        "predictions =modelbias.predict([val['user_id'],val['movie_id']])\n",
        "test_performance = mean_absolute_error(val[\"rating\"], predictions)\n",
        "test_performance_r2 = r2_score(val['rating'],predictions)\n",
        "print(\"Mean absolute error for model 2 with bias units: %s \" % test_performance)\n",
        "print(\"r2 score for model 2 with bias units: %s \" % test_performance_r2)"
      ],
      "execution_count": 0,
      "outputs": [
        {
          "output_type": "stream",
          "text": [
            "Mean absolute error for model 2 with bias units: 0.7011869081979457 \n",
            "r2 score for model 2 with bias units: 0.3596083827767115 \n"
          ],
          "name": "stdout"
        }
      ]
    },
    {
      "cell_type": "markdown",
      "metadata": {
        "id": "Lap9GBrtK1B6",
        "colab_type": "text"
      },
      "source": [
        "<h3>Mean absolute error for model 2 with bias units: 0.7011869081979457 \n",
        "<h3>r2 score for model 2 with bias units: 0.3596083827767115"
      ]
    },
    {
      "cell_type": "code",
      "metadata": {
        "id": "yFmtBBYDp7WJ",
        "colab_type": "code",
        "outputId": "9336f201-0320-449a-b38a-575b8a1a2ea8",
        "colab": {
          "base_uri": "https://localhost:8080/",
          "height": 295
        }
      },
      "source": [
        "plt.plot(history2.history['loss'])\n",
        "plt.plot(history2.history['val_loss'])\n",
        "plt.title('model loss')\n",
        "plt.ylabel('loss')\n",
        "plt.xlabel('epoch')\n",
        "plt.legend(['train', 'test'], loc='upper left')\n",
        "plt.show()"
      ],
      "execution_count": 0,
      "outputs": [
        {
          "output_type": "display_data",
          "data": {
            "image/png": "[encoded data removed]",
            "text/plain": [
              "<Figure size 432x288 with 1 Axes>"
            ]
          },
          "metadata": {
            "tags": []
          }
        }
      ]
    },
    {
      "cell_type": "code",
      "metadata": {
        "id": "-KHk_E-B6aww",
        "colab_type": "code",
        "colab": {}
      },
      "source": [
        "model.save('model1_nobias.h5')"
      ],
      "execution_count": 0,
      "outputs": []
    },
    {
      "cell_type": "code",
      "metadata": {
        "id": "z7Ll1nxQ_XX_",
        "colab_type": "code",
        "colab": {}
      },
      "source": [
        "modelbias.save('model2_withbias.h5')"
      ],
      "execution_count": 0,
      "outputs": []
    },
    {
      "cell_type": "code",
      "metadata": {
        "id": "hXR58VM-Bqn8",
        "colab_type": "code",
        "outputId": "73b74ad9-aa74-4bc8-e854-e5cdc9319d3e",
        "colab": {
          "base_uri": "https://localhost:8080/",
          "height": 856
        }
      },
      "source": [
        "plot_model(model, to_file='model.png')"
      ],
      "execution_count": 0,
      "outputs": [
        {
          "output_type": "execute_result",
          "data": {
            "image/png": "[encoded data removed]",
            "text/plain": [
              "<IPython.core.display.Image object>"
            ]
          },
          "metadata": {
            "tags": []
          },
          "execution_count": 52
        }
      ]
    },
    {
      "cell_type": "code",
      "metadata": {
        "id": "xs-Ne5HpCNOx",
        "colab_type": "code",
        "outputId": "1a731254-2283-480c-d7c8-9cd6d9a7327c",
        "colab": {
          "base_uri": "https://localhost:8080/",
          "height": 953
        }
      },
      "source": [
        "plot_model(modelbias, to_file='modelbias.png')"
      ],
      "execution_count": 0,
      "outputs": [
        {
          "output_type": "execute_result",
          "data": {
            "image/png": "[encoded data removed]",
            "text/plain": [
              "<IPython.core.display.Image object>"
            ]
          },
          "metadata": {
            "tags": []
          },
          "execution_count": 53
        }
      ]
    },
    {
      "cell_type": "markdown",
      "metadata": {
        "id": "-H2qUSAKHr07",
        "colab_type": "text"
      },
      "source": [
        "#Some Predictions"
      ]
    },
    {
      "cell_type": "code",
      "metadata": {
        "id": "I9qR9VAgEp00",
        "colab_type": "code",
        "outputId": "9094ea8d-7064-4c3c-f351-4c29924bb515",
        "colab": {
          "base_uri": "https://localhost:8080/",
          "height": 81
        }
      },
      "source": [
        "which_row = 465\n",
        "pd.DataFrame(val.iloc[which_row,:]).drop(['timestamp']).T\n"
      ],
      "execution_count": 0,
      "outputs": [
        {
          "output_type": "execute_result",
          "data": {
            "text/html": [
              "<div>\n",
              "<style scoped>\n",
              "    .dataframe tbody tr th:only-of-type {\n",
              "        vertical-align: middle;\n",
              "    }\n",
              "\n",
              "    .dataframe tbody tr th {\n",
              "        vertical-align: top;\n",
              "    }\n",
              "\n",
              "    .dataframe thead th {\n",
              "        text-align: right;\n",
              "    }\n",
              "</style>\n",
              "<table border=\"1\" class=\"dataframe\">\n",
              "  <thead>\n",
              "    <tr style=\"text-align: right;\">\n",
              "      <th></th>\n",
              "      <th>user_id</th>\n",
              "      <th>movie_id</th>\n",
              "      <th>rating</th>\n",
              "    </tr>\n",
              "  </thead>\n",
              "  <tbody>\n",
              "    <tr>\n",
              "      <th>2422</th>\n",
              "      <td>19</td>\n",
              "      <td>1429</td>\n",
              "      <td>3</td>\n",
              "    </tr>\n",
              "  </tbody>\n",
              "</table>\n",
              "</div>"
            ],
            "text/plain": [
              "      user_id  movie_id  rating\n",
              "2422       19      1429       3"
            ]
          },
          "metadata": {
            "tags": []
          },
          "execution_count": 107
        }
      ]
    },
    {
      "cell_type": "code",
      "metadata": {
        "id": "hTwzc5rhEwfh",
        "colab_type": "code",
        "outputId": "3c4dc0d2-ef0a-473c-d13c-1b6a6e8a4aba",
        "colab": {
          "base_uri": "https://localhost:8080/",
          "height": 54
        }
      },
      "source": [
        "a1 = model.predict([pd.DataFrame([val.iloc[which_row,:][0]]),pd.DataFrame([val.iloc[which_row,:][1]])])\n",
        "a2 = modelbias.predict([pd.DataFrame([val.iloc[which_row,:][0]]),pd.DataFrame([val.iloc[which_row,:][1]])])\n",
        "print(\"Model 1 ratings %f\" % a1)\n",
        "print(\"Model 2 ratings %f\" % a2)"
      ],
      "execution_count": 0,
      "outputs": [
        {
          "output_type": "stream",
          "text": [
            "Model 1 ratings 4.004258\n",
            "Model 2 ratings 3.353845\n"
          ],
          "name": "stdout"
        }
      ]
    },
    {
      "cell_type": "code",
      "metadata": {
        "id": "FwscfzOlFlcG",
        "colab_type": "code",
        "outputId": "0730ab0f-15f4-4e74-db96-cf448353b4d2",
        "colab": {
          "base_uri": "https://localhost:8080/",
          "height": 81
        }
      },
      "source": [
        "which_row = 150\n",
        "pd.DataFrame(val.iloc[which_row,:]).drop(['timestamp']).T\n"
      ],
      "execution_count": 0,
      "outputs": [
        {
          "output_type": "execute_result",
          "data": {
            "text/html": [
              "<div>\n",
              "<style scoped>\n",
              "    .dataframe tbody tr th:only-of-type {\n",
              "        vertical-align: middle;\n",
              "    }\n",
              "\n",
              "    .dataframe tbody tr th {\n",
              "        vertical-align: top;\n",
              "    }\n",
              "\n",
              "    .dataframe thead th {\n",
              "        text-align: right;\n",
              "    }\n",
              "</style>\n",
              "<table border=\"1\" class=\"dataframe\">\n",
              "  <thead>\n",
              "    <tr style=\"text-align: right;\">\n",
              "      <th></th>\n",
              "      <th>user_id</th>\n",
              "      <th>movie_id</th>\n",
              "      <th>rating</th>\n",
              "    </tr>\n",
              "  </thead>\n",
              "  <tbody>\n",
              "    <tr>\n",
              "      <th>814</th>\n",
              "      <td>10</td>\n",
              "      <td>3623</td>\n",
              "      <td>3</td>\n",
              "    </tr>\n",
              "  </tbody>\n",
              "</table>\n",
              "</div>"
            ],
            "text/plain": [
              "     user_id  movie_id  rating\n",
              "814       10      3623       3"
            ]
          },
          "metadata": {
            "tags": []
          },
          "execution_count": 112
        }
      ]
    },
    {
      "cell_type": "code",
      "metadata": {
        "id": "tr8In8rsHhkR",
        "colab_type": "code",
        "outputId": "605626cb-ffad-444e-d6d6-d07ea8154357",
        "colab": {
          "base_uri": "https://localhost:8080/",
          "height": 54
        }
      },
      "source": [
        "a1 = model.predict([pd.DataFrame([val.iloc[which_row,:][0]]),pd.DataFrame([val.iloc[which_row,:][1]])])\n",
        "a2 = modelbias.predict([pd.DataFrame([val.iloc[which_row,:][0]]),pd.DataFrame([val.iloc[which_row,:][1]])])\n",
        "print(\"Model 1 ratings %f\" % a1)\n",
        "print(\"Model 2 ratings %f\" % a2)"
      ],
      "execution_count": 0,
      "outputs": [
        {
          "output_type": "stream",
          "text": [
            "Model 1 ratings 4.176280\n",
            "Model 2 ratings 3.019052\n"
          ],
          "name": "stdout"
        }
      ]
    },
    {
      "cell_type": "code",
      "metadata": {
        "id": "eOvmuFk6H_hh",
        "colab_type": "code",
        "outputId": "80ebb86b-103c-4e36-933d-e2a70c6f7870",
        "colab": {
          "base_uri": "https://localhost:8080/",
          "height": 81
        }
      },
      "source": [
        "which_row = 15000\n",
        "pd.DataFrame(val.iloc[which_row,:]).drop(['timestamp']).T"
      ],
      "execution_count": 0,
      "outputs": [
        {
          "output_type": "execute_result",
          "data": {
            "text/html": [
              "<div>\n",
              "<style scoped>\n",
              "    .dataframe tbody tr th:only-of-type {\n",
              "        vertical-align: middle;\n",
              "    }\n",
              "\n",
              "    .dataframe tbody tr th {\n",
              "        vertical-align: top;\n",
              "    }\n",
              "\n",
              "    .dataframe thead th {\n",
              "        text-align: right;\n",
              "    }\n",
              "</style>\n",
              "<table border=\"1\" class=\"dataframe\">\n",
              "  <thead>\n",
              "    <tr style=\"text-align: right;\">\n",
              "      <th></th>\n",
              "      <th>user_id</th>\n",
              "      <th>movie_id</th>\n",
              "      <th>rating</th>\n",
              "    </tr>\n",
              "  </thead>\n",
              "  <tbody>\n",
              "    <tr>\n",
              "      <th>75512</th>\n",
              "      <td>513</td>\n",
              "      <td>2587</td>\n",
              "      <td>4</td>\n",
              "    </tr>\n",
              "  </tbody>\n",
              "</table>\n",
              "</div>"
            ],
            "text/plain": [
              "       user_id  movie_id  rating\n",
              "75512      513      2587       4"
            ]
          },
          "metadata": {
            "tags": []
          },
          "execution_count": 114
        }
      ]
    },
    {
      "cell_type": "code",
      "metadata": {
        "id": "Y9KQ6xhvJkKM",
        "colab_type": "code",
        "outputId": "611f3426-c9b0-422a-aa6f-e5450fb83106",
        "colab": {
          "base_uri": "https://localhost:8080/",
          "height": 54
        }
      },
      "source": [
        "a1 = model.predict([pd.DataFrame([val.iloc[which_row,:][0]]),pd.DataFrame([val.iloc[which_row,:][1]])])\n",
        "a2 = modelbias.predict([pd.DataFrame([val.iloc[which_row,:][0]]),pd.DataFrame([val.iloc[which_row,:][1]])])\n",
        "print(\"Model 1 ratings %f\" % a1)\n",
        "print(\"Model 2 ratings %f\" % a2)"
      ],
      "execution_count": 0,
      "outputs": [
        {
          "output_type": "stream",
          "text": [
            "Model 1 ratings 4.853716\n",
            "Model 2 ratings 3.896684\n"
          ],
          "name": "stdout"
        }
      ]
    },
    {
      "cell_type": "code",
      "metadata": {
        "id": "ua6OfcX59Di3",
        "colab_type": "code",
        "colab": {}
      },
      "source": [
        ""
      ],
      "execution_count": 0,
      "outputs": []
    }
  ]
}